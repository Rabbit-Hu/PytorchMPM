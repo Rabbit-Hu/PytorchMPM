{
 "cells": [
  {
   "cell_type": "code",
   "execution_count": 7,
   "metadata": {},
   "outputs": [],
   "source": [
    "##### Import #####\n",
    "\n",
    "import os\n",
    "import sys\n",
    "\n",
    "import time\n",
    "import argparse\n",
    "import json\n",
    "import copy\n",
    "from tqdm import tqdm\n",
    "\n",
    "from collections import OrderedDict\n",
    "\n",
    "import numpy as np\n",
    "import torch\n",
    "import torch.nn as nn\n",
    "\n",
    "sys.path.append('/root/Concept/PytorchMPM')\n",
    "sys.path.append('/root/Concept/PytorchMPM/learnable/learn_Psi')\n",
    "from model.model_loop import MPMModelLearnedPhi, PsiModel2d\n",
    "\n",
    "import random\n",
    "random.seed(20010313)\n",
    "np.random.seed(20010313)\n",
    "torch.manual_seed(20010313)\n",
    "torch.cuda.manual_seed(20010313)\n",
    "\n",
    "device = torch.device('cuda:0') "
   ]
  },
  {
   "cell_type": "code",
   "execution_count": 2,
   "metadata": {},
   "outputs": [],
   "source": [
    "##### Data #####\n",
    "\n",
    "data_dir = '/xiaodi-fast-vol/PytorchMPM/learnable/learn_Psi/data/jelly_v2_every_iter/config_0000'\n",
    "\n",
    "with open(os.path.join(data_dir, 'config_dict.json'), 'r') as f:\n",
    "    config_dict = json.load(f)\n",
    "n_grid = config_dict['n_grid']\n",
    "dx = 1 / n_grid\n",
    "dt = config_dict['dt']\n",
    "frame_dt = config_dict['frame_dt']\n",
    "n_iter_per_frame = int(frame_dt / dt + 0.5)\n",
    "p_vol, p_rho = config_dict['p_vol'], config_dict['p_rho']\n",
    "gravity = config_dict['gravity']\n",
    "E_range = config_dict['E_range']\n",
    "nu_range = config_dict['nu_range']\n",
    "E_gt = config_dict['E']\n",
    "nu_gt = config_dict['nu']\n",
    "E_range = config_dict['E_range']\n",
    "nu_range = config_dict['nu_range']\n",
    "\n",
    "traj_list = sorted([s for s in os.listdir(data_dir) if 'traj_' in s])\n",
    "traj_name = traj_list[0]\n",
    "clip_idx = 0\n",
    "clip_start = 110 # TODO: change back\n",
    "clip_len = 100\n",
    "clip_end = clip_start + clip_len\n",
    "supervise_frame_interval = 10\n",
    "\n",
    "data_dict = torch.load(os.path.join(data_dir, traj_name, 'data_dict.pth'), map_location=\"cpu\")\n",
    "traj_len = len(data_dict['x_traj'])\n",
    "\n",
    "x_start, v_start, C_start, F_start = data_dict['x_traj'][clip_start].to(device), \\\n",
    "                                           data_dict['v_traj'][clip_start].to(device), \\\n",
    "                                           data_dict['C_traj'][clip_start].to(device), \\\n",
    "                                           data_dict['F_traj'][clip_start].to(device)\n",
    "x_traj, v_traj, C_traj, F_traj = data_dict['x_traj'][clip_start + 1: clip_end + 1].to(device), \\\n",
    "                                 data_dict['v_traj'][clip_start + 1: clip_end + 1].to(device), \\\n",
    "                                 data_dict['C_traj'][clip_start + 1: clip_end + 1].to(device), \\\n",
    "                                 data_dict['F_traj'][clip_start + 1: clip_end + 1].to(device)\n",
    "\n"
   ]
  },
  {
   "cell_type": "code",
   "execution_count": 27,
   "metadata": {},
   "outputs": [
    {
     "name": "stdout",
     "output_type": "stream",
     "text": [
      "2.425779104232788\n"
     ]
    }
   ],
   "source": [
    "##### Loss #####\n",
    "\n",
    "def get_loss(a_1, a_2):\n",
    "    state_dict = OrderedDict([('psi_model.mlp.0.weight', torch.tensor([[a_1, a_2]], device=device)), ('psi_model.mlp.0.bias', torch.tensor([0], device=device))])\n",
    "    mpm_model = MPMModelLearnedPhi(2, n_grid, dx, dt, p_vol, p_rho, gravity, psi_model_input_type='eigen', base_model='fixed_corotated', n_hidden_layer=n_hidden_layer).to(device)\n",
    "    mpm_model.load_state_dict(state_dict)\n",
    "\n",
    "    material = torch.ones((len(x_start),), dtype=torch.int, device=device)\n",
    "    Jp = torch.ones((len(x_start),), dtype=torch.float, device=device)\n",
    "    \n",
    "    criterion = nn.MSELoss()\n",
    "\n",
    "    x, v, C, F = x_start.clone(), v_start.clone(), C_start.clone(), F_start.clone()\n",
    "\n",
    "    loss = 0\n",
    "    x_scale = 1e3\n",
    "\n",
    "    for clip_frame in range(clip_len):\n",
    "        for s in range(n_iter_per_frame):\n",
    "            x, v, C, F, material, Jp = mpm_model(x, v, C, F, material, Jp)\n",
    "\n",
    "        if (clip_frame + 1) % supervise_frame_interval == 0:\n",
    "            frame_loss = criterion(x * x_scale, x_traj[clip_frame] * x_scale)\n",
    "            loss += frame_loss\n",
    "\n",
    "    loss /= clip_len // supervise_frame_interval\n",
    "\n",
    "    return loss.item()\n",
    "\n",
    "a_1, a_2 = 11.71528149, -19.02729416 # epoch 128\n",
    "print(get_loss(a_1, a_2))"
   ]
  },
  {
   "cell_type": "code",
   "execution_count": 29,
   "metadata": {},
   "outputs": [
    {
     "name": "stdout",
     "output_type": "stream",
     "text": [
      "Parameter containing:\n",
      "tensor([[ 11.7153, -19.0273]], device='cuda:0', requires_grad=True) Parameter containing:\n",
      "tensor([-0.0042], device='cuda:0', requires_grad=True)\n",
      "2.425779104232788\n"
     ]
    }
   ],
   "source": [
    "##### Model #####\n",
    "\n",
    "n_hidden_layer = 0\n",
    "model_epoch = 128\n",
    "model_path = f'/root/Concept/PytorchMPM/learnable/learn_Psi/log/loop_0layer_noclip_sgd_lr3/traj_0000_clip_0000/model/checkpoint_{model_epoch:04d}.pth'\n",
    "\n",
    "mpm_model = MPMModelLearnedPhi(2, n_grid, dx, dt, p_vol, p_rho, gravity, psi_model_input_type='eigen', base_model='fixed_corotated', n_hidden_layer=n_hidden_layer).to(device)\n",
    "state_dict = torch.load(model_path)\n",
    "# print(state_dict)\n",
    "mpm_model.load_state_dict(state_dict)\n",
    "\n",
    "for layer in mpm_model.psi_model.mlp:\n",
    "    if isinstance(layer, nn.Linear):\n",
    "        print(layer.weight, layer.bias)\n",
    "\n",
    "a_1, a_2 = state_dict['psi_model.mlp.0.weight'].view(-1)\n",
    "print(get_loss(a_1, a_2))"
   ]
  },
  {
   "cell_type": "code",
   "execution_count": null,
   "metadata": {},
   "outputs": [],
   "source": []
  }
 ],
 "metadata": {
  "kernelspec": {
   "display_name": "Python 3 (ipykernel)",
   "language": "python",
   "name": "python3"
  },
  "language_info": {
   "codemirror_mode": {
    "name": "ipython",
    "version": 3
   },
   "file_extension": ".py",
   "mimetype": "text/x-python",
   "name": "python",
   "nbconvert_exporter": "python",
   "pygments_lexer": "ipython3",
   "version": "3.9.7"
  }
 },
 "nbformat": 4,
 "nbformat_minor": 2
}
